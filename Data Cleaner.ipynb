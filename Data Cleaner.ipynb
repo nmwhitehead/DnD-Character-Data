{
 "cells": [
  {
   "cell_type": "code",
   "execution_count": 1,
   "metadata": {},
   "outputs": [],
   "source": [
    "# Since the CSV is too large to open in Excel, I'm going to do some cleaning of it here"
   ]
  },
  {
   "cell_type": "code",
   "execution_count": 2,
   "metadata": {},
   "outputs": [],
   "source": [
    "import pandas as pd"
   ]
  },
  {
   "cell_type": "code",
   "execution_count": 3,
   "metadata": {},
   "outputs": [],
   "source": [
    "# Here is the source dataset, since I can't send the full dataset to GitHub\n",
    "# https://www.kaggle.com/datasets/maximebonnin/dnd-characters-test\n",
    "dnd_characters = pd.read_csv('over_one_mil_chars.csv')"
   ]
  },
  {
   "cell_type": "code",
   "execution_count": 4,
   "metadata": {},
   "outputs": [],
   "source": [
    "# These columns aren't datapoints I think I'd have much to explore with\n",
    "dnd_characters = dnd_characters.drop(columns=['Unnamed: 0', 'name', 'feats', 'notes_len', 'gold'])"
   ]
  },
  {
   "cell_type": "code",
   "execution_count": 5,
   "metadata": {},
   "outputs": [
    {
     "data": {
      "text/plain": [
       "1204252"
      ]
     },
     "execution_count": 5,
     "metadata": {},
     "output_type": "execute_result"
    }
   ],
   "source": [
    "len(dnd_characters)"
   ]
  },
  {
   "cell_type": "code",
   "execution_count": 6,
   "metadata": {},
   "outputs": [],
   "source": [
    "dnd_characters = dnd_characters.drop_duplicates()"
   ]
  },
  {
   "cell_type": "code",
   "execution_count": 7,
   "metadata": {},
   "outputs": [
    {
     "data": {
      "text/plain": [
       "511314"
      ]
     },
     "execution_count": 7,
     "metadata": {},
     "output_type": "execute_result"
    }
   ],
   "source": [
    "# That's a lot more duplicates than I expected\n",
    "len(dnd_characters)"
   ]
  },
  {
   "cell_type": "code",
   "execution_count": 8,
   "metadata": {},
   "outputs": [
    {
     "data": {
      "text/plain": [
       "char_id                  int64\n",
       "base_hp                  int64\n",
       "stats_1                  int64\n",
       "stats_2                  int64\n",
       "stats_3                  int64\n",
       "stats_4                  int64\n",
       "stats_5                  int64\n",
       "stats_6                  int64\n",
       "background              object\n",
       "race                    object\n",
       "class_starting          object\n",
       "class_starting_level     int64\n",
       "subclass_starting       object\n",
       "class_other             object\n",
       "subclass_other          object\n",
       "total_level              int64\n",
       "inventory               object\n",
       "date_modified           object\n",
       "dtype: object"
      ]
     },
     "execution_count": 8,
     "metadata": {},
     "output_type": "execute_result"
    }
   ],
   "source": [
    "dnd_characters.dtypes"
   ]
  },
  {
   "cell_type": "code",
   "execution_count": 9,
   "metadata": {},
   "outputs": [],
   "source": [
    "dnd_characters['date_modified'] = pd.to_datetime(dnd_characters['date_modified'])"
   ]
  },
  {
   "cell_type": "code",
   "execution_count": 10,
   "metadata": {},
   "outputs": [
    {
     "data": {
      "text/html": [
       "<div>\n",
       "<style scoped>\n",
       "    .dataframe tbody tr th:only-of-type {\n",
       "        vertical-align: middle;\n",
       "    }\n",
       "\n",
       "    .dataframe tbody tr th {\n",
       "        vertical-align: top;\n",
       "    }\n",
       "\n",
       "    .dataframe thead th {\n",
       "        text-align: right;\n",
       "    }\n",
       "</style>\n",
       "<table border=\"1\" class=\"dataframe\">\n",
       "  <thead>\n",
       "    <tr style=\"text-align: right;\">\n",
       "      <th></th>\n",
       "      <th>char_id</th>\n",
       "      <th>base_hp</th>\n",
       "      <th>stats_1</th>\n",
       "      <th>stats_2</th>\n",
       "      <th>stats_3</th>\n",
       "      <th>stats_4</th>\n",
       "      <th>stats_5</th>\n",
       "      <th>stats_6</th>\n",
       "      <th>background</th>\n",
       "      <th>race</th>\n",
       "      <th>class_starting</th>\n",
       "      <th>class_starting_level</th>\n",
       "      <th>subclass_starting</th>\n",
       "      <th>class_other</th>\n",
       "      <th>subclass_other</th>\n",
       "      <th>total_level</th>\n",
       "      <th>inventory</th>\n",
       "      <th>date_modified</th>\n",
       "    </tr>\n",
       "  </thead>\n",
       "  <tbody>\n",
       "    <tr>\n",
       "      <th>0</th>\n",
       "      <td>1</td>\n",
       "      <td>8</td>\n",
       "      <td>11</td>\n",
       "      <td>22</td>\n",
       "      <td>11</td>\n",
       "      <td>17</td>\n",
       "      <td>20</td>\n",
       "      <td>12</td>\n",
       "      <td>Urban Bounty Hunter</td>\n",
       "      <td>Aarakocra</td>\n",
       "      <td>Artificer</td>\n",
       "      <td>4</td>\n",
       "      <td>NaN</td>\n",
       "      <td>NaN</td>\n",
       "      <td>NaN</td>\n",
       "      <td>4</td>\n",
       "      <td>Adamantine Chain Shirt/Cloak of Protection/Gog...</td>\n",
       "      <td>2022-09-12 19:13:03.290000+00:00</td>\n",
       "    </tr>\n",
       "    <tr>\n",
       "      <th>1</th>\n",
       "      <td>3</td>\n",
       "      <td>103</td>\n",
       "      <td>12</td>\n",
       "      <td>17</td>\n",
       "      <td>18</td>\n",
       "      <td>14</td>\n",
       "      <td>16</td>\n",
       "      <td>16</td>\n",
       "      <td>Charlatan</td>\n",
       "      <td>Tiefling</td>\n",
       "      <td>Warlock</td>\n",
       "      <td>20</td>\n",
       "      <td>The Great Old One</td>\n",
       "      <td>NaN</td>\n",
       "      <td>NaN</td>\n",
       "      <td>20</td>\n",
       "      <td>Bag of Holding/Iron Flask/Studded Leather, +3/...</td>\n",
       "      <td>2021-12-07 21:25:36.900000+00:00</td>\n",
       "    </tr>\n",
       "    <tr>\n",
       "      <th>2</th>\n",
       "      <td>8</td>\n",
       "      <td>76</td>\n",
       "      <td>18</td>\n",
       "      <td>10</td>\n",
       "      <td>16</td>\n",
       "      <td>13</td>\n",
       "      <td>13</td>\n",
       "      <td>16</td>\n",
       "      <td>City Watch / Investigator</td>\n",
       "      <td>Bugbear</td>\n",
       "      <td>Paladin</td>\n",
       "      <td>7</td>\n",
       "      <td>Oath of the Crown</td>\n",
       "      <td>NaN</td>\n",
       "      <td>NaN</td>\n",
       "      <td>7</td>\n",
       "      <td>Shield</td>\n",
       "      <td>2021-01-21 16:50:35+00:00</td>\n",
       "    </tr>\n",
       "    <tr>\n",
       "      <th>3</th>\n",
       "      <td>10</td>\n",
       "      <td>127</td>\n",
       "      <td>10</td>\n",
       "      <td>14</td>\n",
       "      <td>16</td>\n",
       "      <td>16</td>\n",
       "      <td>15</td>\n",
       "      <td>18</td>\n",
       "      <td>Clan Crafter</td>\n",
       "      <td>Gnome</td>\n",
       "      <td>Warlock</td>\n",
       "      <td>2</td>\n",
       "      <td>NaN</td>\n",
       "      <td>Bard/Cleric/Wizard</td>\n",
       "      <td>School of Illusion</td>\n",
       "      <td>16</td>\n",
       "      <td>Give/Studded Leather/Dagger/Light Hammer/Ink (...</td>\n",
       "      <td>2020-08-06 16:05:07+00:00</td>\n",
       "    </tr>\n",
       "    <tr>\n",
       "      <th>4</th>\n",
       "      <td>19</td>\n",
       "      <td>52</td>\n",
       "      <td>10</td>\n",
       "      <td>10</td>\n",
       "      <td>15</td>\n",
       "      <td>12</td>\n",
       "      <td>14</td>\n",
       "      <td>10</td>\n",
       "      <td>Sailor</td>\n",
       "      <td>Half-Orc</td>\n",
       "      <td>Cleric</td>\n",
       "      <td>6</td>\n",
       "      <td>Life Domain</td>\n",
       "      <td>NaN</td>\n",
       "      <td>NaN</td>\n",
       "      <td>6</td>\n",
       "      <td>Shield/Plate/Mace/Potion of Healing</td>\n",
       "      <td>2020-05-15 04:47:59+00:00</td>\n",
       "    </tr>\n",
       "  </tbody>\n",
       "</table>\n",
       "</div>"
      ],
      "text/plain": [
       "   char_id  base_hp  stats_1  stats_2  stats_3  stats_4  stats_5  stats_6  \\\n",
       "0        1        8       11       22       11       17       20       12   \n",
       "1        3      103       12       17       18       14       16       16   \n",
       "2        8       76       18       10       16       13       13       16   \n",
       "3       10      127       10       14       16       16       15       18   \n",
       "4       19       52       10       10       15       12       14       10   \n",
       "\n",
       "                  background       race class_starting  class_starting_level  \\\n",
       "0        Urban Bounty Hunter  Aarakocra      Artificer                     4   \n",
       "1                  Charlatan   Tiefling        Warlock                    20   \n",
       "2  City Watch / Investigator    Bugbear        Paladin                     7   \n",
       "3               Clan Crafter      Gnome        Warlock                     2   \n",
       "4                     Sailor   Half-Orc         Cleric                     6   \n",
       "\n",
       "   subclass_starting         class_other      subclass_other  total_level  \\\n",
       "0                NaN                 NaN                 NaN            4   \n",
       "1  The Great Old One                 NaN                 NaN           20   \n",
       "2  Oath of the Crown                 NaN                 NaN            7   \n",
       "3                NaN  Bard/Cleric/Wizard  School of Illusion           16   \n",
       "4        Life Domain                 NaN                 NaN            6   \n",
       "\n",
       "                                           inventory  \\\n",
       "0  Adamantine Chain Shirt/Cloak of Protection/Gog...   \n",
       "1  Bag of Holding/Iron Flask/Studded Leather, +3/...   \n",
       "2                                             Shield   \n",
       "3  Give/Studded Leather/Dagger/Light Hammer/Ink (...   \n",
       "4                Shield/Plate/Mace/Potion of Healing   \n",
       "\n",
       "                     date_modified  \n",
       "0 2022-09-12 19:13:03.290000+00:00  \n",
       "1 2021-12-07 21:25:36.900000+00:00  \n",
       "2        2021-01-21 16:50:35+00:00  \n",
       "3        2020-08-06 16:05:07+00:00  \n",
       "4        2020-05-15 04:47:59+00:00  "
      ]
     },
     "execution_count": 10,
     "metadata": {},
     "output_type": "execute_result"
    }
   ],
   "source": [
    "dnd_characters.head()"
   ]
  },
  {
   "cell_type": "code",
   "execution_count": 20,
   "metadata": {},
   "outputs": [],
   "source": [
    "# This separates the stats from the other info to make the datasets we're working with a little smaller\n",
    "dnd_character_info = dnd_characters[['char_id', 'background', 'race', 'class_starting', 'class_starting_level', 'subclass_starting', 'class_other', 'subclass_other', 'total_level', 'date_modified']]\n",
    "dnd_character_stats = dnd_characters[['char_id', 'base_hp', 'stats_1', 'stats_2', 'stats_3', 'stats_4', 'stats_5', 'stats_6']]"
   ]
  },
  {
   "cell_type": "code",
   "execution_count": 21,
   "metadata": {},
   "outputs": [
    {
     "data": {
      "text/html": [
       "<div>\n",
       "<style scoped>\n",
       "    .dataframe tbody tr th:only-of-type {\n",
       "        vertical-align: middle;\n",
       "    }\n",
       "\n",
       "    .dataframe tbody tr th {\n",
       "        vertical-align: top;\n",
       "    }\n",
       "\n",
       "    .dataframe thead th {\n",
       "        text-align: right;\n",
       "    }\n",
       "</style>\n",
       "<table border=\"1\" class=\"dataframe\">\n",
       "  <thead>\n",
       "    <tr style=\"text-align: right;\">\n",
       "      <th></th>\n",
       "      <th>char_id</th>\n",
       "      <th>background</th>\n",
       "      <th>race</th>\n",
       "      <th>class_starting</th>\n",
       "      <th>class_starting_level</th>\n",
       "      <th>subclass_starting</th>\n",
       "      <th>class_other</th>\n",
       "      <th>subclass_other</th>\n",
       "      <th>total_level</th>\n",
       "      <th>date_modified</th>\n",
       "    </tr>\n",
       "  </thead>\n",
       "  <tbody>\n",
       "    <tr>\n",
       "      <th>0</th>\n",
       "      <td>1</td>\n",
       "      <td>Urban Bounty Hunter</td>\n",
       "      <td>Aarakocra</td>\n",
       "      <td>Artificer</td>\n",
       "      <td>4</td>\n",
       "      <td>NaN</td>\n",
       "      <td>NaN</td>\n",
       "      <td>NaN</td>\n",
       "      <td>4</td>\n",
       "      <td>2022-09-12 19:13:03.290000+00:00</td>\n",
       "    </tr>\n",
       "    <tr>\n",
       "      <th>1</th>\n",
       "      <td>3</td>\n",
       "      <td>Charlatan</td>\n",
       "      <td>Tiefling</td>\n",
       "      <td>Warlock</td>\n",
       "      <td>20</td>\n",
       "      <td>The Great Old One</td>\n",
       "      <td>NaN</td>\n",
       "      <td>NaN</td>\n",
       "      <td>20</td>\n",
       "      <td>2021-12-07 21:25:36.900000+00:00</td>\n",
       "    </tr>\n",
       "    <tr>\n",
       "      <th>2</th>\n",
       "      <td>8</td>\n",
       "      <td>City Watch / Investigator</td>\n",
       "      <td>Bugbear</td>\n",
       "      <td>Paladin</td>\n",
       "      <td>7</td>\n",
       "      <td>Oath of the Crown</td>\n",
       "      <td>NaN</td>\n",
       "      <td>NaN</td>\n",
       "      <td>7</td>\n",
       "      <td>2021-01-21 16:50:35+00:00</td>\n",
       "    </tr>\n",
       "    <tr>\n",
       "      <th>3</th>\n",
       "      <td>10</td>\n",
       "      <td>Clan Crafter</td>\n",
       "      <td>Gnome</td>\n",
       "      <td>Warlock</td>\n",
       "      <td>2</td>\n",
       "      <td>NaN</td>\n",
       "      <td>Bard/Cleric/Wizard</td>\n",
       "      <td>School of Illusion</td>\n",
       "      <td>16</td>\n",
       "      <td>2020-08-06 16:05:07+00:00</td>\n",
       "    </tr>\n",
       "    <tr>\n",
       "      <th>4</th>\n",
       "      <td>19</td>\n",
       "      <td>Sailor</td>\n",
       "      <td>Half-Orc</td>\n",
       "      <td>Cleric</td>\n",
       "      <td>6</td>\n",
       "      <td>Life Domain</td>\n",
       "      <td>NaN</td>\n",
       "      <td>NaN</td>\n",
       "      <td>6</td>\n",
       "      <td>2020-05-15 04:47:59+00:00</td>\n",
       "    </tr>\n",
       "  </tbody>\n",
       "</table>\n",
       "</div>"
      ],
      "text/plain": [
       "   char_id                 background       race class_starting  \\\n",
       "0        1        Urban Bounty Hunter  Aarakocra      Artificer   \n",
       "1        3                  Charlatan   Tiefling        Warlock   \n",
       "2        8  City Watch / Investigator    Bugbear        Paladin   \n",
       "3       10               Clan Crafter      Gnome        Warlock   \n",
       "4       19                     Sailor   Half-Orc         Cleric   \n",
       "\n",
       "   class_starting_level  subclass_starting         class_other  \\\n",
       "0                     4                NaN                 NaN   \n",
       "1                    20  The Great Old One                 NaN   \n",
       "2                     7  Oath of the Crown                 NaN   \n",
       "3                     2                NaN  Bard/Cleric/Wizard   \n",
       "4                     6        Life Domain                 NaN   \n",
       "\n",
       "       subclass_other  total_level                    date_modified  \n",
       "0                 NaN            4 2022-09-12 19:13:03.290000+00:00  \n",
       "1                 NaN           20 2021-12-07 21:25:36.900000+00:00  \n",
       "2                 NaN            7        2021-01-21 16:50:35+00:00  \n",
       "3  School of Illusion           16        2020-08-06 16:05:07+00:00  \n",
       "4                 NaN            6        2020-05-15 04:47:59+00:00  "
      ]
     },
     "execution_count": 21,
     "metadata": {},
     "output_type": "execute_result"
    }
   ],
   "source": [
    "dnd_character_info.head()"
   ]
  },
  {
   "cell_type": "code",
   "execution_count": 22,
   "metadata": {},
   "outputs": [],
   "source": [
    "dnd_character_info.to_csv('dnd_character_info.csv')\n",
    "dnd_character_stats.to_csv('dnd_character_stats.csv')"
   ]
  },
  {
   "cell_type": "code",
   "execution_count": null,
   "metadata": {},
   "outputs": [],
   "source": []
  }
 ],
 "metadata": {
  "kernelspec": {
   "display_name": "Python 3",
   "language": "python",
   "name": "python3"
  },
  "language_info": {
   "codemirror_mode": {
    "name": "ipython",
    "version": 3
   },
   "file_extension": ".py",
   "mimetype": "text/x-python",
   "name": "python",
   "nbconvert_exporter": "python",
   "pygments_lexer": "ipython3",
   "version": "3.7.3"
  }
 },
 "nbformat": 4,
 "nbformat_minor": 2
}
